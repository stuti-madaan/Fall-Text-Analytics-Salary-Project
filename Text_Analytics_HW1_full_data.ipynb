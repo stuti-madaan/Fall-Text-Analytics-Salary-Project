{
 "cells": [
  {
   "cell_type": "markdown",
   "metadata": {},
   "source": [
    "# Text Analytics HW1\n",
    "Billy Yuan, Nikita Lakhotia, Stuti Madaan, Tyler Nicholas, Wenduo Wang"
   ]
  },
  {
   "cell_type": "markdown",
   "metadata": {},
   "source": [
    "### Import packages and set up data"
   ]
  },
  {
   "cell_type": "code",
   "execution_count": 1,
   "metadata": {
    "collapsed": false
   },
   "outputs": [],
   "source": [
    "from collections import Counter\n",
    "import math\n",
    "import pandas as pd\n",
    "import numpy as np\n",
    "import matplotlib.pyplot as plt\n",
    "%matplotlib inline\n",
    "from nltk import pos_tag, word_tokenize, NaiveBayesClassifier, classify, bigrams\n",
    "from nltk.corpus import stopwords as stpwds\n",
    "from nltk.stem import WordNetLemmatizer\n",
    "from nltk.tokenize import RegexpTokenizer\n",
    "from nltk.metrics import ConfusionMatrix\n",
    "from sklearn.cross_validation import train_test_split\n",
    "\n",
    "lmtz = WordNetLemmatizer().lemmatize"
   ]
  },
  {
   "cell_type": "code",
   "execution_count": 2,
   "metadata": {
    "collapsed": false
   },
   "outputs": [],
   "source": [
    "# Helper function to tokenize \n",
    "regex_tok = RegexpTokenizer(r\"[\\w]+\")"
   ]
  },
  {
   "cell_type": "code",
   "execution_count": 3,
   "metadata": {
    "collapsed": true
   },
   "outputs": [],
   "source": [
    "# Read data\n",
    "data = pd.read_csv(\"Train_rev1.csv\", usecols=[\"FullDescription\", \"SalaryNormalized\"])"
   ]
  },
  {
   "cell_type": "code",
   "execution_count": 4,
   "metadata": {
    "collapsed": true
   },
   "outputs": [],
   "source": [
    "# Create series of only the job descriptions\n",
    "job_description = data.FullDescription"
   ]
  },
  {
   "cell_type": "code",
   "execution_count": 5,
   "metadata": {
    "collapsed": false
   },
   "outputs": [
    {
     "name": "stdout",
     "output_type": "stream",
     "text": [
      "42500.0\n"
     ]
    }
   ],
   "source": [
    "# Calculate 75th percentile salary and store this value\n",
    "salary_75_percentile = np.percentile(data.SalaryNormalized.tolist(),75)\n",
    "print salary_75_percentile"
   ]
  },
  {
   "cell_type": "code",
   "execution_count": 6,
   "metadata": {
    "collapsed": true
   },
   "outputs": [],
   "source": [
    "# Create target column\n",
    "def over_75(salary):\n",
    "    if salary >= salary_75_percentile:\n",
    "        return \"high\"\n",
    "    else:\n",
    "        return \"low\"\n",
    "\n",
    "data['target'] = data['SalaryNormalized'].map(over_75)"
   ]
  },
  {
   "cell_type": "code",
   "execution_count": 7,
   "metadata": {
    "collapsed": false
   },
   "outputs": [],
   "source": [
    "# Create list of tokenized words\n",
    "tokenized = [regex_tok.tokenize(job_description[i].decode('utf-8')) for i in xrange(len(job_description))]"
   ]
  },
  {
   "cell_type": "code",
   "execution_count": 8,
   "metadata": {
    "collapsed": true
   },
   "outputs": [],
   "source": [
    "def bigram_features(job_desc):\n",
    "    text = word_tokenize(job_desc)\n",
    "    bi_text = bigrams(text)\n",
    "    pos_text = pos_tag(text)\n",
    "    new_list = []\n",
    "    for item in pos_text:\n",
    "        item = item[1]\n",
    "        new_list.append(item)\n",
    "    bi_text = bigrams(new_list)\n",
    "    bigram_counter = Counter(bi_text)\n",
    "    token_counter = Counter(text)\n",
    "    for item in bigram_counter:\n",
    "        token_counter[item] = bigram_counter[item]\n",
    "    return dict(token_counter)"
   ]
  },
  {
   "cell_type": "code",
   "execution_count": 9,
   "metadata": {
    "collapsed": true
   },
   "outputs": [],
   "source": [
    "def data_refine(job_desc, process_type):\n",
    "    lmtzi = lmtz\n",
    "    # Remove stop words\n",
    "    if process_type == \"remove_stop\":\n",
    "        no_stop_words_list = []\n",
    "        stopwords = stpwds.words('english')\n",
    "        for item in tokenized[:len(job_desc)]:\n",
    "            # stopwords = stopwords.words('english')\n",
    "            content = [w for w in item if w.lower() not in stopwords]\n",
    "            no_stop_words_list.append(Counter(content)) # word count dict of every job desc. without stopwords\n",
    "        # Create feature list (list of tuples)\n",
    "        no_stop_features = [(dict(no_stop_words_list[i]),data['target'][i]) for i in xrange(len(job_desc))]\n",
    "        \n",
    "        return no_stop_features\n",
    "    \n",
    "    elif process_type == \"lem\":\n",
    "        # tokenized list after lemmatization. The freq. counts of this will be our features\n",
    "        lem_list= []\n",
    "        for item in tokenized[:len(job_desc)]: # debug\n",
    "            lemmatized_words = [lmtzi(word) for word in item]\n",
    "#             lemmatized_words = []\n",
    "#             for word in item:\n",
    "#                 lemmatized_words.append((lmtzi(word)))\n",
    "            lem_list.append(lemmatized_words)\n",
    "        \n",
    "        lem_features = [(dict(Counter(lem_list[i])),data['target'][i]) for i in xrange(len(job_desc))]\n",
    "        \n",
    "        return lem_features\n",
    "\n",
    "    elif process_type == \"bigram\":\n",
    "        bigram_list = []\n",
    "        for i in xrange(len(job_desc)):\n",
    "            bigram_list.append((bigram_features(\" \".join(tokenized[i])),data['target'][i]))\n",
    "        return bigram_list\n",
    "    else:\n",
    "        return [(dict(Counter(tokenized[i])),data['target'][i]) for i in xrange(len(tokenized))]\n",
    "    "
   ]
  },
  {
   "cell_type": "markdown",
   "metadata": {},
   "source": [
    "## Part A"
   ]
  },
  {
   "cell_type": "markdown",
   "metadata": {},
   "source": [
    "### A1\n",
    "_What are the top 5 parts of speech in this corpus of job descriptions? How frequently do they\n",
    "appear?_\n",
    "\n",
    "The top 5 parts of speech and their frequencies are:\n",
    "\n",
    "1. Noun, singular or mass - 11,041,536\n",
    "2. Proper noun, singular = 8,808,952\n",
    "3. Preposition or subordinating conjunction - 6,374,096\n",
    "4. Adjective - 5,130,847\n",
    "5. Determiner - 4,903,941"
   ]
  },
  {
   "cell_type": "code",
   "execution_count": 11,
   "metadata": {
    "collapsed": true
   },
   "outputs": [],
   "source": [
    "pos_token = [pos_tag(tokenized[i]) for i in xrange(len(tokenized))]\n",
    "a1_list = []\n",
    "for item in pos_token:\n",
    "    help_list = []\n",
    "    for tup_1 in item:\n",
    "        help_list.append(tup_1[1])\n",
    "    a1_list.append(Counter(help_list))"
   ]
  },
  {
   "cell_type": "code",
   "execution_count": 12,
   "metadata": {
    "collapsed": true
   },
   "outputs": [],
   "source": [
    "del pos_token\n",
    "most_common_pos = a1_list[0]"
   ]
  },
  {
   "cell_type": "code",
   "execution_count": 13,
   "metadata": {
    "collapsed": false
   },
   "outputs": [
    {
     "data": {
      "text/plain": [
       "[('NN', 11041536),\n",
       " ('NNP', 8808952),\n",
       " ('IN', 6374096),\n",
       " ('JJ', 5130847),\n",
       " ('DT', 4903941)]"
      ]
     },
     "execution_count": 13,
     "metadata": {},
     "output_type": "execute_result"
    }
   ],
   "source": [
    "for i in xrange(1,len(a1_list)):\n",
    "    most_common_pos += a1_list[i]\n",
    "\n",
    "del a1_list\n",
    "most_common_pos.most_common()[:5]"
   ]
  },
  {
   "cell_type": "code",
   "execution_count": 14,
   "metadata": {
    "collapsed": false
   },
   "outputs": [],
   "source": [
    "del most_common_pos"
   ]
  },
  {
   "cell_type": "markdown",
   "metadata": {},
   "source": [
    "### A2\n",
    "_Does this corpus support Zipf’s law? Plot the most common 100 words in the corpus against the\n",
    "theoretical prediction of the law. For this question, do not remove stopwords. Also do not perform\n",
    "stemming or lemmatization._"
   ]
  },
  {
   "cell_type": "markdown",
   "metadata": {},
   "source": [
    "Yes, this corpus supports Zipf's law. A word's rank in the corpus and its frequency are inversely related. The list of the top 100 most common words and the rank-frequency graph are below."
   ]
  },
  {
   "cell_type": "code",
   "execution_count": 10,
   "metadata": {
    "collapsed": true
   },
   "outputs": [],
   "source": [
    "tokenized_all = []\n",
    "for item in tokenized: \n",
    "    tokenized_all += item"
   ]
  },
  {
   "cell_type": "code",
   "execution_count": 16,
   "metadata": {
    "collapsed": false
   },
   "outputs": [
    {
     "name": "stdout",
     "output_type": "stream",
     "text": [
      "and: 2640417\n",
      "to: 1871409\n",
      "the: 1747563\n",
      "of: 1417820\n",
      "a: 1412751\n",
      "in: 980680\n",
      "for: 825230\n",
      "with: 709641\n",
      "will: 647451\n",
      "be: 603152\n",
      "is: 595401\n",
      "you: 475113\n",
      "as: 414395\n",
      "an: 411569\n",
      "are: 410015\n",
      "on: 387286\n",
      "have: 339114\n",
      "experience: 329950\n",
      "or: 322853\n",
      "The: 317014\n",
      "this: 274403\n",
      "role: 258797\n",
      "work: 253994\n",
      "your: 250511\n",
      "team: 237632\n",
      "This: 220844\n",
      "You: 214257\n",
      "within: 214176\n",
      "all: 198903\n",
      "that: 198870\n",
      "skills: 198837\n",
      "business: 198488\n",
      "working: 184955\n",
      "their: 179881\n",
      "client: 175619\n",
      "at: 162915\n",
      "from: 159536\n",
      "our: 158519\n",
      "Manager: 154720\n",
      "looking: 152332\n",
      "s: 144243\n",
      "company: 138680\n",
      "To: 136291\n",
      "management: 136032\n",
      "opportunity: 125776\n",
      "development: 124697\n",
      "sales: 122578\n",
      "required: 121460\n",
      "we: 120466\n",
      "support: 116445\n",
      "new: 116317\n",
      "We: 116081\n",
      "job: 115120\n",
      "who: 114461\n",
      "UK: 113788\n",
      "please: 110582\n",
      "A: 108065\n",
      "successful: 108023\n",
      "by: 106748\n",
      "service: 104221\n",
      "must: 97273\n",
      "based: 97153\n",
      "excellent: 95735\n",
      "Experience: 93649\n",
      "join: 92111\n",
      "customer: 91543\n",
      "environment: 90057\n",
      "including: 89282\n",
      "has: 88585\n",
      "www: 87480\n",
      "com: 87110\n",
      "knowledge: 86066\n",
      "apply: 85711\n",
      "not: 85439\n",
      "also: 85171\n",
      "candidate: 84863\n",
      "high: 84781\n",
      "clients: 84753\n",
      "CV: 84190\n",
      "Sales: 83938\n",
      "leading: 82941\n",
      "well: 82703\n",
      "If: 82379\n",
      "position: 78815\n",
      "training: 78464\n",
      "would: 76277\n",
      "able: 76061\n",
      "other: 75773\n",
      "can: 75751\n",
      "ensure: 72551\n",
      "services: 71540\n",
      "ability: 70964\n",
      "was: 70068\n",
      "career: 69691\n",
      "strong: 69215\n",
      "contact: 68312\n",
      "up: 67828\n",
      "posted: 66928\n",
      "Business: 66640\n",
      "originally: 66222\n"
     ]
    },
    {
     "data": {
      "image/png": "[encoded data removed]",
      "text/plain": [
       "<matplotlib.figure.Figure at 0x2470cb278>"
      ]
     },
     "metadata": {},
     "output_type": "display_data"
    }
   ],
   "source": [
    "top_100_words = Counter(tokenized_all).most_common()[:100]\n",
    "word_list = [word[0] for word in top_100_words]\n",
    "freq_list = [word[1] for word in top_100_words]\n",
    "rank_list = [i for i in xrange(1,len(top_100_words)+1)]\n",
    "log_rev_rank = map(math.log, range(1, len(Counter(tokenized_all))+1)[::-1])\n",
    "for i in xrange(len(top_100_words)):\n",
    "    print \"{}: {}\".format(word_list[i],freq_list[i])\n",
    "    \n",
    "del top_100_words\n",
    "\n",
    "fig, ax1 = plt.subplots()\n",
    "ax2 = ax1.twinx()\n",
    "ax1.plot(rank_list[:100], freq_list[:100], color=\"g\")\n",
    "ax2.plot(rank_list[:100], log_rev_rank[:100], color=\"b\")\n",
    "ax1.set_xlabel(\"Rank\")\n",
    "ax1.set_ylabel(\"Frequency\", color=\"g\")\n",
    "ax2.set_ylabel(\"log(inverse rank)\", color=\"b\")\n",
    "plt.title(\"Zipf's Law\")\n",
    "\n",
    "del word_list, freq_list, rank_list, log_rev_rank"
   ]
  },
  {
   "cell_type": "markdown",
   "metadata": {},
   "source": [
    "### A3\n",
    "_If we remove stopwords and lemmatize the corpus, what are the 10 most common words? What is\n",
    "their frequency?_"
   ]
  },
  {
   "cell_type": "markdown",
   "metadata": {},
   "source": [
    "The top 10 most common words and their frequencies are:\n",
    "\n",
    "1. experience - 431,323\n",
    "2. role - 313,012\n",
    "3. team - 302,115\n",
    "4. work - 291,955\n",
    "5. client - 286,690\n",
    "6. business - 276,559\n",
    "7. service - 244,243\n",
    "8. skill - 242,526\n",
    "9. manager - 217,339\n",
    "10. sale - 212,460\n"
   ]
  },
  {
   "cell_type": "code",
   "execution_count": 11,
   "metadata": {
    "collapsed": false
   },
   "outputs": [],
   "source": [
    "stopwords = stpwds.words('english')\n",
    "tokenized_no_stop = [word.lower() for word in tokenized_all if word not in stopwords]"
   ]
  },
  {
   "cell_type": "code",
   "execution_count": 12,
   "metadata": {
    "collapsed": false
   },
   "outputs": [
    {
     "data": {
      "text/plain": [
       "[(u'experience', 431323),\n",
       " (u'the', 332745),\n",
       " (u'role', 313012),\n",
       " (u'team', 302115),\n",
       " (u'work', 291955),\n",
       " (u'client', 286690),\n",
       " (u'business', 276559),\n",
       " (u'service', 244243),\n",
       " (u'skill', 242526),\n",
       " (u'working', 222876),\n",
       " (u'this', 222564),\n",
       " (u'you', 218927),\n",
       " (u'manager', 217461),\n",
       " (u'within', 217339),\n",
       " (u'sale', 212460)]"
      ]
     },
     "execution_count": 12,
     "metadata": {},
     "output_type": "execute_result"
    }
   ],
   "source": [
    "lem_words = [lmtz(word) for word in tokenized_no_stop]\n",
    "Counter(lem_words).most_common()[:15] "
   ]
  },
  {
   "cell_type": "code",
   "execution_count": 18,
   "metadata": {
    "collapsed": false
   },
   "outputs": [],
   "source": [
    "del tokenized_all, lem_words"
   ]
  },
  {
   "cell_type": "markdown",
   "metadata": {},
   "source": [
    "## Part B\n",
    "\n",
    "We chose to use a multinomial Naive Bayes model for this section."
   ]
  },
  {
   "cell_type": "markdown",
   "metadata": {},
   "source": [
    "### B1\n",
    "_Create a classification model with all words and the bag-of-words approach. How accurate is the\n",
    "model (show the confusion matrix)?_"
   ]
  },
  {
   "cell_type": "markdown",
   "metadata": {},
   "source": [
    "Using the bag-of-words approach, our model had an accuracy of 0.7524. The confusion matrix is below. The columns of the confusion matrix are the \"actual\" categories while the rows are what the model predicted."
   ]
  },
  {
   "cell_type": "code",
   "execution_count": 19,
   "metadata": {
    "collapsed": false
   },
   "outputs": [],
   "source": [
    "b1_features = data_refine(job_description,\"none\") # create features\n",
    "train_set_b1, test_set_b1 = train_test_split(b1_features, test_size = 0.3, random_state=128) # create test/train\n",
    "del b1_features\n",
    "classifier_b1 = NaiveBayesClassifier.train(train_set_b1)\n",
    "del train_set_b1"
   ]
  },
  {
   "cell_type": "code",
   "execution_count": 20,
   "metadata": {
    "collapsed": false
   },
   "outputs": [
    {
     "name": "stdout",
     "output_type": "stream",
     "text": [
      "Accuracy with Bag of Words: 0.752447876238\n"
     ]
    }
   ],
   "source": [
    "print(\"Accuracy with Bag of Words: {}\".format(classify.accuracy(classifier_b1, test_set_b1)))"
   ]
  },
  {
   "cell_type": "code",
   "execution_count": 21,
   "metadata": {
    "collapsed": false
   },
   "outputs": [],
   "source": [
    "# Build lists for predictions and actuals for confusion matrix\n",
    "predict_b1 = [classifier_b1.classify(test_set_b1[i][0]) for i in xrange(len(test_set_b1))]\n",
    "actual_b1 = [test_set_b1[i][1] for i in xrange(len(test_set_b1))] \n",
    "del test_set_b1"
   ]
  },
  {
   "cell_type": "code",
   "execution_count": 22,
   "metadata": {
    "collapsed": false
   },
   "outputs": [
    {
     "name": "stdout",
     "output_type": "stream",
     "text": [
      "     |     h       |\n",
      "     |     i     l |\n",
      "     |     g     o |\n",
      "     |     h     w |\n",
      "-----+-------------+\n",
      "high |<16574>16156 |\n",
      " low |  2022<38679>|\n",
      "-----+-------------+\n",
      "(row = reference; col = test)\n",
      "\n"
     ]
    }
   ],
   "source": [
    "print ConfusionMatrix(predict_b1,actual_b1)\n",
    "del predict_b1, actual_b1"
   ]
  },
  {
   "cell_type": "markdown",
   "metadata": {},
   "source": [
    "### B2\n",
    "_Speculate before running the following analysis whether lemmatization would help improve the\n",
    "accuracy of classification. Now create a classification model after lemmatization. Did the classification\n",
    "accuracy increase relative to B1? Comment on your speculation versus the actual results you obtained._"
   ]
  },
  {
   "cell_type": "markdown",
   "metadata": {},
   "source": [
    "Prior to running the model with lemmatization, we expected that lemmatization would increase the accuracy of the model. However, after running the model, lemmatization did not appear to improve the accuracy of our model. We suspect that the accuracy did not increase because the posterior probabilities after lemmatization did not change much."
   ]
  },
  {
   "cell_type": "code",
   "execution_count": 23,
   "metadata": {
    "collapsed": false
   },
   "outputs": [],
   "source": [
    "b2_features = data_refine(job_description,\"lem\")\n",
    "train_set_b2, test_set_b2 = train_test_split(b2_features, test_size = 0.3, random_state=128)\n",
    "del b2_features\n",
    "classifier_b2 = NaiveBayesClassifier.train(train_set_b2)\n",
    "del train_set_b2"
   ]
  },
  {
   "cell_type": "code",
   "execution_count": 24,
   "metadata": {
    "collapsed": false
   },
   "outputs": [
    {
     "name": "stdout",
     "output_type": "stream",
     "text": [
      "Accuracy with lemmatization: 0.751957620079\n"
     ]
    }
   ],
   "source": [
    "print(\"Accuracy with lemmatization: {}\".format(classify.accuracy(classifier_b2, test_set_b2)))\n",
    "del test_set_b2"
   ]
  },
  {
   "cell_type": "markdown",
   "metadata": {},
   "source": [
    "### B3\n",
    "_Now speculate whether stopwords removal from the original data would help increase the accuracy\n",
    "of the model. Take out the stopwords (but do not lemmatize), build a classification model and check the\n",
    "accuracy, and compare with that in B1 & B2._\n",
    "\n",
    "_Also show the top 10 words (excluding stopwords) that are most indicative of (i) high salary, and (ii) low\n",
    "salary._\n",
    "\n",
    "After seeing how little lemmatization improved accuracy, we did not expect the removal of stop words to improve accuracy either since we hypothesized that stop words provided little predictive value. The results of our model with stop words removed confirm our hypothesis - the accuracy did not improve.\n",
    "\n",
    "**Top 10 Words Most Indicative of 'High' Salary Jobs:**\n",
    "1. Architect\n",
    "2. GP\n",
    "3. LHB\n",
    "4. locum\n",
    "5. Latency\n",
    "6. actuary\n",
    "7. Braga\n",
    "8. Lisbon\n",
    "9. Swaps\n",
    "10. Lipman\n",
    "\n",
    "**Top 10 Words Most Indicative of 'Low' Salary Jobs:**\n",
    "1. dusting\n",
    "2. vacuuming\n",
    "3. photocopying\n",
    "4. Cleaner\n",
    "5. Teach\n",
    "6. NVQ\n",
    "7. Setter\n",
    "8. unloading\n",
    "9. LGV\n",
    "10. Fanuc"
   ]
  },
  {
   "cell_type": "code",
   "execution_count": 25,
   "metadata": {
    "collapsed": false
   },
   "outputs": [],
   "source": [
    "b3_features = data_refine(job_description, \"remove_stop\")\n",
    "train_set_b3, test_set_b3 = train_test_split(b3_features, test_size = 0.3, random_state=128)\n",
    "del b3_features\n",
    "classifier_b3 = NaiveBayesClassifier.train(train_set_b3)\n",
    "del train_set_b3"
   ]
  },
  {
   "cell_type": "code",
   "execution_count": 26,
   "metadata": {
    "collapsed": false
   },
   "outputs": [
    {
     "name": "stdout",
     "output_type": "stream",
     "text": [
      "Accuracy with stopwords removal: 0.748947991992\n"
     ]
    }
   ],
   "source": [
    "print(\"Accuracy with stopwords removal: {}\".format(classify.accuracy(classifier_b3, test_set_b3)))\n",
    "del test_set_b3"
   ]
  },
  {
   "cell_type": "code",
   "execution_count": 27,
   "metadata": {
    "collapsed": false
   },
   "outputs": [
    {
     "name": "stdout",
     "output_type": "stream",
     "text": [
      "Most Informative Features\n",
      "               Architect = 5                high : low    =    165.2 : 1.0\n",
      "                      GP = 5                high : low    =     96.8 : 1.0\n",
      "               Architect = 4                high : low    =     94.3 : 1.0\n",
      "                 dusting = 1                 low : high   =     91.9 : 1.0\n",
      "                     LHB = 1                high : low    =     87.0 : 1.0\n",
      "               vacuuming = 1                 low : high   =     80.6 : 1.0\n",
      "                   Merco = 5                high : low    =     75.3 : 1.0\n",
      "                   locum = 3                high : low    =     74.6 : 1.0\n",
      "            photocopying = 1                 low : high   =     72.8 : 1.0\n",
      "                 Latency = 1                high : low    =     71.4 : 1.0\n",
      "                 actuary = 1                high : low    =     67.5 : 1.0\n",
      "                   Braga = 1                high : low    =     65.5 : 1.0\n",
      "                  Lisbon = 1                high : low    =     65.5 : 1.0\n",
      "                 Cleaner = 1                 low : high   =     63.3 : 1.0\n",
      "                   Teach = 1                 low : high   =     60.3 : 1.0\n",
      "                   Swaps = 1                high : low    =     59.6 : 1.0\n",
      "                  Lipman = 1                high : low    =     57.7 : 1.0\n",
      "                     NVQ = 2                 low : high   =     56.9 : 1.0\n",
      "                  Setter = 1                 low : high   =     56.7 : 1.0\n",
      "               unloading = 1                 low : high   =     56.0 : 1.0\n",
      "                     DMJ = 1                high : low    =     55.7 : 1.0\n",
      "                roadmaps = 2                high : low    =     55.7 : 1.0\n",
      "                     LGV = 1                 low : high   =     54.4 : 1.0\n",
      "                   Fanuc = 1                 low : high   =     53.8 : 1.0\n",
      "                   locum = 4                high : low    =     52.2 : 1.0\n",
      "           Biostatistics = 1                high : low    =     51.8 : 1.0\n",
      "                Dynamics = 13               high : low    =     51.8 : 1.0\n",
      "              DISCLAIMER = 1                 low : high   =     51.8 : 1.0\n",
      "            Receptionist = 1                 low : high   =     51.6 : 1.0\n",
      "                Fortinet = 2                high : low    =     49.9 : 1.0\n",
      "None\n"
     ]
    }
   ],
   "source": [
    "most_important_features_b3 = classifier_b3.show_most_informative_features(30)\n",
    "\n",
    "# We were not sure how to show only the top 10 words for both low and high.\n",
    "print most_important_features_b3"
   ]
  },
  {
   "cell_type": "markdown",
   "metadata": {},
   "source": [
    "### B4\n",
    "_Use the job descriptions without lemmatiztion and stopword removal. Add parts-of-speech bigrams\n",
    "to the bag-of-words, and run a new classification model. Does the accuracy increase over the results in\n",
    "B1?_\n",
    "\n",
    "Before answering this question, we will show what our feature list looked like. Based on how we interpreted the question, our features list looked like:\n",
    "\n",
    "```python\n",
    "# w = word\n",
    "# target = low or high\n",
    "\n",
    "features = [({w1 : freq1, w2 : freq2, ... , w : freq, pos_bigram1 : freq1, pos_bigram2: freq2...}, target), ...]\n",
    "```\n",
    "\n",
    "After adding parts-of-speech bigrams to the bag-of-words, the accuracy did not improve."
   ]
  },
  {
   "cell_type": "code",
   "execution_count": 28,
   "metadata": {
    "collapsed": true
   },
   "outputs": [],
   "source": [
    "b4_features = data_refine(job_description, \"bigram\")\n",
    "del job_description\n",
    "train_set_b4, test_set_b4 = train_test_split(b4_features, test_size = 0.3, random_state=128)\n",
    "del b4_features\n",
    "classifier_b4 = NaiveBayesClassifier.train(train_set_b4)\n",
    "del train_set_b4"
   ]
  },
  {
   "cell_type": "code",
   "execution_count": 29,
   "metadata": {
    "collapsed": false
   },
   "outputs": [
    {
     "name": "stdout",
     "output_type": "stream",
     "text": [
      "Accuracy with adding POS bigrams: 0.751875910719\n"
     ]
    }
   ],
   "source": [
    "print(\"Accuracy with adding POS bigrams: {}\".format(classify.accuracy(classifier_b4, test_set_b4)))\n",
    "del test_set_b4"
   ]
  }
 ],
 "metadata": {
  "anaconda-cloud": {},
  "kernelspec": {
   "display_name": "Python 2",
   "language": "python",
   "name": "python2"
  },
  "language_info": {
   "codemirror_mode": {
    "name": "ipython",
    "version": 2
   },
   "file_extension": ".py",
   "mimetype": "text/x-python",
   "name": "python",
   "nbconvert_exporter": "python",
   "pygments_lexer": "ipython2",
   "version": "2.7.12"
  }
 },
 "nbformat": 4,
 "nbformat_minor": 0
}
